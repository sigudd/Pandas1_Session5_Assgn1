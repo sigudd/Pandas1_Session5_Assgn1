{
 "cells": [
  {
   "cell_type": "code",
   "execution_count": 24,
   "metadata": {},
   "outputs": [
    {
     "name": "stdout",
     "output_type": "stream",
     "text": [
      "   X  Y\n",
      "0  7  1\n",
      "1  2  2\n",
      "2  0  0\n",
      "3  3  1\n",
      "4  4  2\n",
      "5  2  3\n",
      "6  5  4\n",
      "7  0  0\n",
      "8  3  1\n",
      "9  4  2\n"
     ]
    }
   ],
   "source": [
    "import pandas as pd\n",
    "df = pd.DataFrame({'X':[7,2,0,3,4,2,5,0,3,4]})\n",
    "#print(df)\n",
    "start_distance = 1\n",
    "current_distance = 1\n",
    "zero_distance = -1\n",
    "final_distances = []\n",
    "for index, row in df.iterrows():\n",
    "    current_distance = 1+index\n",
    "    if row.X == 0:\n",
    "        zero_distance = 0\n",
    "    elif zero_distance>=0:\n",
    "        zero_distance = zero_distance+1\n",
    "    if(zero_distance==-1):\n",
    "        final_distances.append(current_distance)\n",
    "        #print(current_distance)\n",
    "    else:\n",
    "        final_distances.append(min(current_distance,zero_distance))\n",
    "        #print(min(current_distance,zero_distance))\n",
    "\n",
    "df['Y']= pd.Series(final_distances)\n",
    "print(df)"
   ]
  },
  {
   "cell_type": "code",
   "execution_count": 18,
   "metadata": {},
   "outputs": [
    {
     "name": "stdout",
     "output_type": "stream",
     "text": [
      "\n",
      " 2.DatetimeIndex with each business day of 2015: \n",
      " DatetimeIndex(['2015-01-01', '2015-01-02', '2015-01-05', '2015-01-06',\n",
      "               '2015-01-07', '2015-01-08', '2015-01-09', '2015-01-12',\n",
      "               '2015-01-13', '2015-01-14',\n",
      "               ...\n",
      "               '2015-12-18', '2015-12-21', '2015-12-22', '2015-12-23',\n",
      "               '2015-12-24', '2015-12-25', '2015-12-28', '2015-12-29',\n",
      "               '2015-12-30', '2015-12-31'],\n",
      "              dtype='datetime64[ns]', length=261, freq='B')\n",
      "\n",
      " 3.Sum of the values in s for every Wednesday: \n",
      " 0    5.856347\n",
      "dtype: float64 \n",
      "\n",
      "\n",
      " 4.Average for each calender month: \n",
      "                    0\n",
      "2015-01-31  0.472968\n",
      "2015-02-28  0.055223\n",
      "2015-03-31  0.217403\n",
      "2015-04-30  0.075394\n",
      "2015-05-31 -0.222819\n",
      "2015-06-30  0.097893\n",
      "2015-07-31  0.075627\n",
      "2015-08-31 -0.148774\n",
      "2015-09-30 -0.121836\n",
      "2015-10-31  0.171445\n",
      "2015-11-30 -0.193908\n",
      "2015-12-31  0.149926\n",
      "\n",
      " 5.Date with highest values for each group of 4 consecutive calendar months:\n",
      "\n",
      "                  0\n",
      "2015-01-01  2.70685\n",
      "                   0\n",
      "2015-07-01  2.302987\n",
      "                  0\n",
      "2015-09-21  2.49399\n"
     ]
    }
   ],
   "source": [
    "import numpy as np\n",
    "from numpy.random import randn as rn\n",
    "\n",
    "DatetimeIndex =  pd.date_range('1/1/2015', '12/31/2015', freq='B')\n",
    "print('\\n 2.DatetimeIndex with each business day of 2015: \\n',DatetimeIndex)\n",
    "np.random.seed(101)\n",
    "df = pd.DataFrame(rn(len(DatetimeIndex)),index=DatetimeIndex)\n",
    "df1=df[df.index.dayofweek == 2]\n",
    "\n",
    "#dayofweek\tThe number of the day of the week with Monday=0, Sunday=6\n",
    "print('\\n 3.Sum of the values in s for every Wednesday: \\n',df1.sum(),'\\n')\n",
    "\n",
    "monthDf = df.resample('M')\n",
    "\n",
    "print('\\n 4.Average for each calender month: \\n',monthDf.mean())\n",
    "df2 = df.groupby(pd.Grouper(freq='4MS',label='left',sort=True)).max()[:-1]\n",
    "print('\\n 5.Date with highest values for each group of 4 consecutive calendar months:\\n')\n",
    "for value in df2.values:\n",
    "    print(df[df[0]==value[0]])"
   ]
  },
  {
   "cell_type": "code",
   "execution_count": null,
   "metadata": {},
   "outputs": [],
   "source": []
  },
  {
   "cell_type": "code",
   "execution_count": null,
   "metadata": {},
   "outputs": [],
   "source": []
  }
 ],
 "metadata": {
  "kernelspec": {
   "display_name": "Python 3",
   "language": "python",
   "name": "python3"
  },
  "language_info": {
   "codemirror_mode": {
    "name": "ipython",
    "version": 3
   },
   "file_extension": ".py",
   "mimetype": "text/x-python",
   "name": "python",
   "nbconvert_exporter": "python",
   "pygments_lexer": "ipython3",
   "version": "3.7.0"
  }
 },
 "nbformat": 4,
 "nbformat_minor": 2
}
